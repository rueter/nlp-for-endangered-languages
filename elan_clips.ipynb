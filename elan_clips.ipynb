{
 "cells": [
  {
   "cell_type": "code",
   "execution_count": 1,
   "metadata": {},
   "outputs": [],
   "source": [
    "import pympi\n",
    "import re\n",
    "import pydub\n",
    "from pydub import AudioSegment\n",
    "from pathlib import Path"
   ]
  },
  {
   "cell_type": "markdown",
   "metadata": {},
   "source": [
    "This example shows how we can open an ELAN file and cut individual utterances into their own clips. Python package [pydub](https://github.com/jiaaro/pydub) is used in this, although there are many alternatives. In the beginning we use the method of reading the ELAN into a dictionary that was the same in the last lecture. One could also modify the script below to run into a loop of ELAN files. \n",
    "\n",
    "Note that we expect that the wav file has the same name as the ELAN file, and the file endings are in lower case. Please adjust to your conventions! It would also be possible to read from ELAN file where the linked audio file is. \n",
    "\n",
    "pydub-package is used so that the audio file is read with `from_wav` function. "
   ]
  },
  {
   "cell_type": "code",
   "execution_count": 2,
   "metadata": {},
   "outputs": [],
   "source": [
    "elan_path = \"corpus/kpv_csys19570000-291_1a-Mezador.eaf\"\n",
    "\n",
    "audio = AudioSegment.from_wav(elan_path.replace('.eaf', '.wav'))"
   ]
  },
  {
   "cell_type": "markdown",
   "metadata": {},
   "source": [
    "This is essentially the same as last time. "
   ]
  },
  {
   "cell_type": "code",
   "execution_count": 3,
   "metadata": {},
   "outputs": [
    {
     "name": "stdout",
     "output_type": "stream",
     "text": [
      "Parsing unknown version of ELAN spec... This could result in errors...\n"
     ]
    }
   ],
   "source": [
    "elan_data = []\n",
    "\n",
    "elan = pympi.Elan.Eaf(elan_path)\n",
    "\n",
    "tiers = elan.get_tier_ids_for_linguistic_type(\"orthT\")\n",
    "\n",
    "for tier in tiers:\n",
    "\n",
    "    annotations = elan.get_annotation_data_for_tier(tier)\n",
    "\n",
    "    for annotation in annotations:\n",
    "\n",
    "        a = {}\n",
    "\n",
    "        a['start_ms'] = annotation[0]\n",
    "        a['end_ms'] = annotation[1]\n",
    "        a['utterance'] = annotation[2]\n",
    "        a['reference'] = annotation[3]\n",
    "        a['participant'] = tier.split(\"@\")[1]\n",
    "        a['gender'] = a['participant'].split(\"-\")[1]\n",
    "        a['birthyear'] = a['participant'].split(\"-\")[2]\n",
    "        a['dialect'] = re.search(r\"(?<=kpv_)(izva|csys|izva|udo|uvyc|vym)\", str(elan_path)).group(0)\n",
    "        a['filename'] = str(elan_path)\n",
    "\n",
    "        elan_data.append(a)"
   ]
  },
  {
   "cell_type": "markdown",
   "metadata": {},
   "source": [
    "The data looks now like this, practically all we need is `start_ms`, `end_ms` and `utterance`. These we can also get from ELAN file now matter which tier template we use. "
   ]
  },
  {
   "cell_type": "code",
   "execution_count": 4,
   "metadata": {},
   "outputs": [
    {
     "data": {
      "text/plain": [
       "{'start_ms': 696,\n",
       " 'end_ms': 3168,\n",
       " 'utterance': 'Täällä on Keski-Sysolan murre.',\n",
       " 'reference': 'kpv_csys19570000-291_1a-01',\n",
       " 'participant': 'EEI-M-1913',\n",
       " 'gender': 'M',\n",
       " 'birthyear': '1913',\n",
       " 'dialect': 'csys',\n",
       " 'filename': 'corpus/kpv_csys19570000-291_1a-Mezador.eaf'}"
      ]
     },
     "execution_count": 4,
     "metadata": {},
     "output_type": "execute_result"
    }
   ],
   "source": [
    "elan_data[0]"
   ]
  },
  {
   "cell_type": "markdown",
   "metadata": {},
   "source": [
    "Let's create a directory for the clips, then we loop through each utterance."
   ]
  },
  {
   "cell_type": "code",
   "execution_count": 5,
   "metadata": {},
   "outputs": [
    {
     "name": "stdout",
     "output_type": "stream",
     "text": [
      "mkdir: clips: File exists\n"
     ]
    }
   ],
   "source": [
    "! mkdir clips"
   ]
  },
  {
   "cell_type": "code",
   "execution_count": 6,
   "metadata": {},
   "outputs": [],
   "source": [
    "for annotation in elan_data:\n",
    "    \n",
    "    clip_name = f\"clips/{Path(annotation['filename']).stem}-{annotation['start_ms']}-{annotation['end_ms']}\"\n",
    "    \n",
    "    # This is where we specifically select a part of the clip, using milliseconds as the unit\n",
    "    audio_segment = audio[annotation['start_ms']:annotation['end_ms']]\n",
    "    \n",
    "    audio_segment.export(f\"{clip_name}.wav\", format=\"wav\")\n",
    "    \n",
    "    text_file = open(f\"{clip_name}.txt\", \"w\")\n",
    "    \n",
    "    text_file.write(annotation['utterance'])\n",
    "    \n",
    "    text_file.close()"
   ]
  },
  {
   "cell_type": "code",
   "execution_count": null,
   "metadata": {},
   "outputs": [],
   "source": []
  },
  {
   "cell_type": "code",
   "execution_count": null,
   "metadata": {},
   "outputs": [],
   "source": []
  }
 ],
 "metadata": {
  "kernelspec": {
   "display_name": "Python [conda env:kielipankki]",
   "language": "python",
   "name": "conda-env-kielipankki-py"
  },
  "language_info": {
   "codemirror_mode": {
    "name": "ipython",
    "version": 3
   },
   "file_extension": ".py",
   "mimetype": "text/x-python",
   "name": "python",
   "nbconvert_exporter": "python",
   "pygments_lexer": "ipython3",
   "version": "3.8.8"
  }
 },
 "nbformat": 4,
 "nbformat_minor": 4
}
