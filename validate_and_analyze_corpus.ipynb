{
 "cells": [
  {
   "cell_type": "markdown",
   "metadata": {},
   "source": [
    "In this notebook we go through some basic validation and analysis of data in ELAN files. The same can be adapted to other files and data sources – once we have it in a dictionary or data frame the things are similar. There is also a data format called \"feather\" that can be used to save data in a tabular structure that can be read to both Python and R data frames.\n",
    "\n",
    "First we load some libraries. Pympi can be installed with `pip install pympi-ling`."
   ]
  },
  {
   "cell_type": "code",
   "execution_count": 1,
   "metadata": {},
   "outputs": [],
   "source": [
    "from pathlib import Path\n",
    "import pympi\n",
    "import re"
   ]
  },
  {
   "cell_type": "markdown",
   "metadata": {},
   "source": [
    "This example removes a bunch of tiers from an ELAN file. We do not check if they have content or not, so this is not the most delicate appoach."
   ]
  },
  {
   "cell_type": "code",
   "execution_count": 2,
   "metadata": {},
   "outputs": [
    {
     "name": "stdout",
     "output_type": "stream",
     "text": [
      "Parsing unknown version of ELAN spec... This could result in errors...\n"
     ]
    }
   ],
   "source": [
    "elan_path = \"corpus/kpv_csys19570000-291_1a-Mezador.eaf\"\n",
    "\n",
    "tier_regex = r\".?(UPA|CYR|LAT|IPA|word|morph|ft-deu|ft-nob|ft-swe|ft-ling|ft-fin|lemma|pos|lg\\(word\\)|note\\(word\\))@.?\"\n",
    "\n",
    "elan = pympi.Elan.Eaf(elan_path)\n",
    "\n",
    "tiers = elan.get_tier_names()\n",
    "\n",
    "for tier in list(tiers):\n",
    "        \n",
    "    if re.findall(tier_regex, tier):\n",
    "\n",
    "        elan.remove_tier(tier)\n",
    "        \n",
    "elan.to_file(elan_path.replace(\"corpus\", \"corpus_clean\"))"
   ]
  },
  {
   "cell_type": "markdown",
   "metadata": {},
   "source": [
    "Here we create a list that has all ELAN files in our corpus."
   ]
  },
  {
   "cell_type": "code",
   "execution_count": 3,
   "metadata": {},
   "outputs": [],
   "source": [
    "elan_corpus = []\n",
    "\n",
    "for file in Path(\"corpus\").glob(\"*eaf\"):\n",
    "    \n",
    "    elan_corpus.append(file)"
   ]
  },
  {
   "cell_type": "code",
   "execution_count": 4,
   "metadata": {},
   "outputs": [
    {
     "data": {
      "text/plain": [
       "[PosixPath('corpus/kpv_uvyc19570000-290_3bz-Pop.eaf'),\n",
       " PosixPath('corpus/kpv_udo19570000-290_3a-Ust-Vacerga.eaf'),\n",
       " PosixPath('corpus/kpv_csys19570000-291_1a-Mezador.eaf'),\n",
       " PosixPath('corpus/kpv_vym19570000-290_3a-Soska.eaf'),\n",
       " PosixPath('corpus/kpv_csys19611213-1329_2az-Kunib.eaf'),\n",
       " PosixPath('corpus/kpv_izva19570000-290_3bz-Bakur.eaf')]"
      ]
     },
     "execution_count": 4,
     "metadata": {},
     "output_type": "execute_result"
    }
   ],
   "source": [
    "elan_corpus"
   ]
  },
  {
   "cell_type": "markdown",
   "metadata": {},
   "source": [
    "We loop through those files, and read every tier of type `orthT`. We collect this data into a dictionary, and pick all other information that we have in the filename and participant naming conventions. Here the filenames contain a language and a dialect tag, i.e. kpv_udo means Udora dialect of Komi. And the names are of type NTP-M-1986, meaning Niko Tapio Partanen, male, born in 1986."
   ]
  },
  {
   "cell_type": "code",
   "execution_count": 5,
   "metadata": {},
   "outputs": [
    {
     "name": "stdout",
     "output_type": "stream",
     "text": [
      "Parsing unknown version of ELAN spec... This could result in errors...\n",
      "Parsing unknown version of ELAN spec... This could result in errors...\n",
      "Parsing unknown version of ELAN spec... This could result in errors...\n",
      "Parsing unknown version of ELAN spec... This could result in errors...\n"
     ]
    }
   ],
   "source": [
    "elan_data = []\n",
    "\n",
    "for file in elan_corpus:\n",
    "    \n",
    "    elan = pympi.Elan.Eaf(file)\n",
    "    \n",
    "    tiers = elan.get_tier_ids_for_linguistic_type(\"orthT\")\n",
    "    \n",
    "    for tier in tiers:\n",
    "        \n",
    "        annotations = elan.get_annotation_data_for_tier(tier)\n",
    "        \n",
    "        for annotation in annotations:\n",
    "            \n",
    "            a = {}\n",
    "            \n",
    "            a['start_ms'] = annotation[0]\n",
    "            a['end_ms'] = annotation[1]\n",
    "            a['utterance'] = annotation[2]\n",
    "            a['reference'] = annotation[3]\n",
    "            a['participant'] = tier.split(\"@\")[1]\n",
    "            a['gender'] = a['participant'].split(\"-\")[1]\n",
    "            a['birthyear'] = a['participant'].split(\"-\")[2]\n",
    "            a['dialect'] = re.search(r\"(?<=kpv_)(izva|csys|izva|udo|uvyc|vym)\", str(file)).group(0)\n",
    "            a['filename'] = str(file)\n",
    "            \n",
    "            elan_data.append(a)"
   ]
  },
  {
   "cell_type": "code",
   "execution_count": 6,
   "metadata": {},
   "outputs": [
    {
     "data": {
      "text/plain": [
       "{'start_ms': 1765,\n",
       " 'end_ms': 8825,\n",
       " 'utterance': 'Ме чужи Удора районын, Усть-Вачерга сиктын, коді сулалӧ Вашка ю дорын.',\n",
       " 'reference': 'kpv_udo19570000-290_3a-01',\n",
       " 'participant': 'XUV-F-1920',\n",
       " 'gender': 'F',\n",
       " 'birthyear': '1920',\n",
       " 'dialect': 'udo',\n",
       " 'filename': 'corpus/kpv_udo19570000-290_3a-Ust-Vacerga.eaf'}"
      ]
     },
     "execution_count": 6,
     "metadata": {},
     "output_type": "execute_result"
    }
   ],
   "source": [
    "elan_data[0]"
   ]
  },
  {
   "cell_type": "markdown",
   "metadata": {},
   "source": [
    "This is how the annotations look like:"
   ]
  },
  {
   "cell_type": "code",
   "execution_count": 7,
   "metadata": {},
   "outputs": [
    {
     "name": "stdout",
     "output_type": "stream",
     "text": [
      "1765 8825 Ме чужи Удора районын, Усть-Вачерга сиктын, коді сулалӧ Вашка ю дорын.\n",
      "17551 21030 Миян зэв, природаыс миян зэв мича.\n",
      "21416 23873 Гӧгӧр сулалӧны яг.\n",
      "24275 26053 Сиктсӧ ягӧн гӧгӧртӧма.\n",
      "27708 31646 И юыс миян сэтшӧм визюв мый\n",
      "32136 37646 ю вылас кӧ пыжӧн сынан сразу пыр ӧтнад кӧ сынан ӧтнад он вермы мыйкӧ керны, сразу нуыштас кытчӧ кӧ.\n",
      "38270 40203 И если кӧ,\n",
      "41586 44076 на пример ӧтчыд мӧдӧдчим\n",
      "46886 51081 Йилемъяскӧд мӧдӧдчим пужӧн льӧм вотны.\n",
      "51081 53745 Мунім, кыытім, кыытім, юӧдіс\n",
      "53745 56833 и друг сэтшӧм виам воис\n",
      "56833 60810 мый миянлысь пыжнымӧс бергӧдіс и ставным усим юас.\n",
      "60810 64316 А оказывайтся абу вӧлӧма йир и\n",
      "64316 68660 ми гортӧдз эта берег дорӧдзыс\n",
      "68881 71573 йылан котырыс ӧдва и доберитчим.\n",
      "72596 73573 Сэсся\n",
      "75170 81305 миян колӧ мунны районнӧй чентрсяньыс Усть-Вачерга сиктӧдзыс квайтымын километр.\n",
      "81305 82626 квайтымын верс.\n",
      "82835 86938 И сэті туйыс зэв лёк, а ми велӧдчим\n",
      "87321 91741 Кослан, Косланын, помалім семилеткасӧ и велӧдчим\n",
      "91838 93505 Косланас, районнӧй чентрас.\n",
      "93685 95973 И мӧдам вӧлі и,\n",
      "96600 101615 кыз шок кодь ныдын эськама туйсӧ кыдз абуджыка прӧдитім.\n",
      "101615 104728 Мӧдӧдча гӧг-, туйыс зэв няйтӧсь.\n",
      "104728 109426 И пыр пӧшти вӧлнас оз ёна ветлӧ.\n",
      "109426 113691 И ветлӧдлам унджыкысӧ ветлӧдлім подӧн, мый ӧд\n",
      "113906 116553 йилӧмъясыдлӧн миян кокным ӧд ён.\n",
      "116553 118088 Ӧдйӧ вермам мунны.\n",
      "118483 119196 Сэсся,\n",
      "120585 127425 ӧтпыр ми мунім, мунім, да друг сэтшӧм пемыд лоис и мый нинӧм оз тыдав.\n",
      "127425 135338 Няйтыс, няйтас вӧлі, сэтшӧм няйтӧсь вӧлі мый подӧн кок вывті воӧ и.\n",
      "696 3168 Täällä on Keski-Sysolan murre.\n",
      "4155 4825 Кхм.\n",
      "6656 9356 Ме чужлі Сысола районса Межадор сиктын.\n",
      "9356 11291 Менӧ Конанова Александраӧн.\n",
      "11780 14796 Миян Межадор сикт сулалӧ Сыктыв ю дорын.\n",
      "15908 19870 Ме ӧні висьтала видз вылын уджала ӧтик лун йылысь.\n",
      "20703 23125 Миян колхозлӧн видзьяс ылынӧсь.\n",
      "23596 25181 Верст дас вит сайын.\n",
      "25863 29631 Асывнас медым мунны видзьяс вылӧ катӧны водз.\n",
      "29861 32116 Машинаяс мунӧны вит часын.\n",
      "32845 34795 Лэдзыны зэв гажа.\n",
      "35323 36871 Нывъяс сьылӧны.\n",
      "37110 38956 Машинаяс пу улъяс,\n",
      "38956 42603 машинаясӧ пу улъяс сідз и ӧтӧны юръясад.\n",
      "43796 48780 Асывнас воан видз вылӧ и уджалысьяс ытшкӧны нин.\n",
      "49741 54398 Сідз жӧ посни челядь уджалӧны видзьяс вылын.\n",
      "54526 56540 Кыскалӧны юръяс.\n",
      "57426 59116 Зэв гажа.\n",
      "60626 65465 Асылӧдз, асылӧдз петкӧдліс мича лун.\n",
      "65465 67811 Асывсянь петіс шонді.\n",
      "69105 71786 Коис югыръяссӧ.\n",
      "74976 76546 Пажым кадӧ\n",
      "77628 81860 вӧлі вывті жар и ми мунім купайтчыны.\n",
      "82290 85303 Воӧм бӧрын пӧрысьяс кутісны виччыны.\n",
      "85505 87503 Пыр пӧ тіянӧс жар босьтӧма.\n",
      "89471 92295 Видзӧдам да кыпӧтчӧ зэв сьӧд кымӧр.\n",
      "94386 97343 Регыд кымӧр каис небеста шӧрӧ,\n",
      "97343 101733 и заводитіс ывла-, ывлаӧ пемдыны.\n",
      "101941 105601 Регыд кымӧр тюпкис ставсӧ небестасӧ.\n",
      "106546 108628 Кутіс чорыда гымавны.\n",
      "109120 111016 Ёна югъявны.\n",
      "111811 114376 Ми пӧдругакӧд вӧлі ытшкам.\n",
      "114643 118795 Бригадир кутіс дравзыны, медым шыбитім косаяс.\n",
      "119000 121980 Тіянлы пӧ жаль кӧсаясыд, асьым пӧ абу жаль леса.\n",
      "122820 124693 Ми сэк косаяс жыбитім.\n",
      "124693 127446 И мӧдӧдчим котӧртны тшӧтш йӧз бӧрсяыс.\n",
      "128133 132200 Кыпӧдчи зэл ыджыд тӧл, заводитіс ставсӧ бергӧдчыны.\n",
      "132515 134203 Турунсӧ нӧбалӧ\n",
      "134508 135906 кытчӧ веськалӧ.\n",
      "136060 139723 Уна юръяс лэдзӧдіс ваӧдзӧ.\n",
      "141595 145860 Сэтшӧма кутіс зэрны мый ми пасьтӧг кӧтасим.\n",
      "146285 148876 Рытнас ӧдва воим гортӧдз.\n",
      "1406 3706 Ме быдми Шошка сиктын.\n",
      "4105 7066 Сіе карсяньыс кызь верст сайын.\n",
      "7665 9513 Аслам карсянь, Сыктывкарсянь.\n",
      "10775 18191 Ичӧтдырйи, школаын велӧдчигӧн на, нёльӧд клас бӧрын, витӧд клас бӧрын.\n",
      "18311 21458 Ми челядь пианыс вӧлі мӧс видзам гожӧмнас.\n",
      "21458 25157 Мӧскыс быдӧнлӧн эм миян сиктас, быд керкаын мӧскыс эм.\n",
      "25510 27865 Ми вӧлі ассьыным мӧснымӧс видзам.\n",
      "28398 31851 Мӧс видзанныс вӧлі нёль верс сайын кымын.\n",
      "32868 33642 Вот.\n",
      "33642 38190 Ми ӧтчыд мунім, сэтчӧ мӧсъяссӧ нуим.\n",
      "38731 41884 Асьным бӧр туй вылас каям, вӧдӧдіс.\n",
      "42140 51320 Восьлім ружъе, сьӧрысь, и туйӧдыс каям, мир туй вылас, паськыд туйсӧ кыдзи миян шуӧны, мир туйӧн.\n",
      "52003 56473 Каям, веськыд ладор бокас эм йӧр, кушин.\n",
      "57753 61605 Ме бара ружъеаыслы тулкниті бокас, видзӧдлі мися кӧчыс.\n",
      "61765 64375 Пукалӧ, зэв лӧсьыда, тыдалӧ, кӧч пукалӧ.\n",
      "64630 66071 Настояшшӧй кӧч и эм.\n",
      "66293 70763 Некытчӧ оз бергӧдчы, нинӧм, зэв лӧсьыда пукалӧ сэтӧн и кӧть бось да лый.\n",
      "71243 74533 Сійӧ водіс, метитчи зэв дыр.\n",
      "74948 79190 Метитчим, метитчим, ме сылы тулкеда бодас, мися лыи нин, лыи нин.\n",
      "79671 83815 И – эз лыи, абу навернӧ, шуӧ кӧч.\n",
      "84386 89291 Мунім неуна водзӧджык, видзӧдім, вӧлӧм ке мыр.\n",
      "89291 90851 Мыръяс муртса ловъяи.\n",
      "91211 96976 И сійӧ мырйыс дыркодь сэтӧн сулаліс, и век вӧлі вспоминайтам тайӧ случайсэ.\n",
      "97505 100205 Мӧдыс бара ю дорынӧсь вӧлім.\n",
      "100205 102360 Ю мӧдарас видзим мӧсъяссӧ.\n",
      "102725 104638 И рытланьыс нин.\n",
      "105388 108180 Сэтӧн и юыслӧн берегыс крут.\n",
      "108765 110625 Метраӧн дзыньйӧн судта кымын.\n",
      "111340 113646 Сэтшӧм крут, берегыс.\n",
      "113646 116870 И юсӧ кутіс ош вуджны.\n",
      "117973 122360 Ошкыс вуджис, кайнысӧ - сэті эськӧ некод оз вермы кайнысӧ да –\n",
      "122360 126694 первойсӧ заводитліс кайнысӧ берегӧдыс веськыда, вылъяс.\n",
      "127088 129543 И эз вермы, бузгысис бӧр баас усис.\n",
      "130195 133195 Сэсся ӧдзӧдчис да кайис.\n",
      "133195 136873 Мӧсъясыс миян ӧтилаӧ ставыс чукӧртчӧмаӧсь, баксӧны, горзӧны.\n",
      "136873 143625 А сійӧ на вылӧ эз и внимание обратит, немтор, прӧстӧ босьтіс да, уйкнитіс муніс вӧрас да и.\n",
      "1040 1380 Мм.\n",
      "4602 7423 Ме чужи Куниб деревняын.\n",
      "8058 12000 И, сійӧ деревняас зэв уна эмӧсь гӧраяс.\n",
      "12500 17500 Гӧраяс вывсяньыс мийӧ зэв частӧ иславлім.\n",
      "17500 20897 иславлім ми даддьӧн, лыжйӧн.\n",
      "22730 25423 Лыжйӧн зэв лӧсьыд иславны,\n",
      "26272 29333 эшшо кӧ гӧраыс дзудзыдджык.\n",
      "31000 33852 Дерт ми сэні лымнад ворслывлім.\n",
      "34743 37243 И унаторъяс эшшо вӧчлывлім.\n",
      "46640 49628 Иславны ме заводиті ичӧтсянь.\n",
      "49628 51923 И первоя классъяссянь жӧ\n",
      "52615 56294 ме вӧлі пӧчти первой местаясын асланым школаын.\n",
      "56448 58846 Участвуйтлім быд [?] вылын.\n",
      "59025 63397 И занима-, и босьтлывлімӧ местасӧ и [?]\n",
      "63666 66961 Ӧні мыйта мӧдӧд [?] лыжи кузя.\n",
      "67740 72653 Участвуйтлі сідз жӧ [?] [?] вылын.\n",
      "75205 77384 Кыдзи гожӧмын сідз и тӧлын.\n",
      "82282 87192 Ислалімӧ первӧйсӧ асланым районса вӧчӧм лыжъяс вылын.\n",
      "87192 90217 А сы бӧрын кодыр нин [?].\n",
      "90410 94380 То клинскӧй лыжъясӧн, кленӧй лыжъяс вылын.\n",
      "107113 108293 Эгӧ.\n",
      "109223 111151 Тоже дойдьнас иславлі вы.\n",
      "111840 112794 Ми эгӧ.\n",
      "178988 180565 А гожӧмнас\n",
      "181330 184488 уна, особенно мячӧн ми ворслывлім.\n",
      "185538 187388 Группӧвӧй играясӧн.\n",
      "190435 193692 Мийӧ ветлімӧ каколь босьтны совхозӧ.\n",
      "195166 201660 Миян бригадаа веськалісны уна, уна том йӧз.\n",
      "203720 207000 Сэні мийӧ быдӧн каколь босьтімӧ, выпоняйтім нормаяс.\n",
      "208282 210717 Какольсӧ босьтім вилаӧн.\n",
      "218080 223666 Зэв гажа вӧлі, особенно том йӧз дырйи.\n",
      "223666 230000 А сы бӧрын сылан и шойччан.\n",
      "230000 231487 Ас…\n",
      "231487 234820 Поводдяыс таво какольтӧ босьтны вӧлі зэв бур.\n",
      "43273 46345 \n",
      "79716 81290 \n",
      "95121 97778 \n",
      "98353 103273 \n",
      "103678 105088 \n",
      "105088 107318 А дядьнас, дойдьӧн ин излавлӧй?\n",
      "107905 109775 Ми ӧні дойдьӧн иславлімӧ.\n",
      "112330 113293 \n",
      "216717 217653 Гажа вӧлі?\n",
      "230065 231589 Поводдяыс бур вӧлі?\n",
      "23500 24420 Важӧн\n",
      "25060 27100 до, дореволучионнӧй воясын,\n",
      "27840 28680 Изьва районысь\n",
      "29160 31340 уна нужнӧй войтыр ветлісныс\n",
      "31760 34320 Печора кыытӧдӧ рӧбитны завӧдын.\n",
      "35280 39320 Печора кыытӧдын сэк завӧдыс вӧлі ӧтік часнӧй фирмалӧн.\n",
      "41160 47840 Тысяча ӧкмыссё даскыкӧт воын сы завӧдас рӧбитны муніс и менам ае.\n",
      "48690 51960 Сыа муніс ёрткӧд тӧлын.\n",
      "52900 54220 Муніныс ныа вӧлӧн.\n",
      "55200 62460 Тулыс сія жӧ тысяча ӧкмыс сё даскыкӧт воын, менӧ маме ыстіс ае дорӧ.\n",
      "63600 65480 Мен сэк вӧлі дасӧтік ар.\n",
      "66700 68740 Ме завӧдас муні пароходен.\n",
      "69600 71900 Пароход вылас пукси Изьва пристаньын.\n",
      "74600 81640 Пароход Изьва кузя кыытіс Печера вылӧдз, а сэсся Печера кузя завӧдӧдз.\n",
      "82860 83820 Завӧдас вӧлі…\n",
      "84900 87880 Завӧдас воӧм бӧрын ме аддзи аес.\n",
      "88720 92200 Сыа мукӧд рӧбӧчӧйяскед оліс баракын.\n",
      "93480 101580 Сэк ме медводз на аддзи, кудз олӧныс вӧлі сыа воясас, царскӧй влась дырйи, рӧбӧчӧйяс.\n",
      "102480 105240 Рӧбӧчӧйяс олӧныс вӧлі зэй лёка.\n",
      "106440 109980 Баракъясас вӧлі кык сода наръяс.\n",
      "111380 114420 Баракъясас вӧліныс гразнӧйӧсь зэй.\n",
      "115020 116260 Зэй уна вӧлі лудук.\n",
      "116880 126240 Даже сьӧкыд рӧбитӧм бӧрын, рӧбӧчӧйяс бура из вермыныс шойччыны-узьны войнас.\n",
      "130420 138580 Кор ме лои ыджыд нин, сыа жӧ завӧдас приве- приведитчис ветлыны рӧбитны и менум аслум.\n",
      "139900 141800 Сыа вӧлі нин револуция бӧрын.\n",
      "143460 148860 Рӧбӧчӧйяслӧн условие вӧлі уна бурджык, чем вӧлі важӧн.\n",
      "149860 155060 Рӧбӧчӧйяс олӧныс бур ыджыд керкаясын.\n",
      "155960 163300 Быд рӧбӧчӧйлы сетӧныс вӧлі койка, вольпась, и вӧлі зэй чистӧ оланінас.\n",
      "1320 4020 Täällä meillä on Semjaškin Kindei Marković,\n",
      "4560 7160 Bakur kylästä Ižmasta.\n"
     ]
    }
   ],
   "source": [
    "for annotation in elan_data:\n",
    "\n",
    "    print(annotation['start_ms'], annotation['end_ms'], annotation['utterance'])"
   ]
  },
  {
   "cell_type": "markdown",
   "metadata": {},
   "source": [
    "Here we test which transcriptions have non-allowed characters (from the point of view of Komi)."
   ]
  },
  {
   "cell_type": "code",
   "execution_count": 8,
   "metadata": {},
   "outputs": [
    {
     "name": "stdout",
     "output_type": "stream",
     "text": [
      "corpus/kpv_csys19570000-291_1a-Mezador.eaf 696 3168 Täällä on Keski-Sysolan murre.\n",
      "corpus/kpv_izva19570000-290_3bz-Bakur.eaf 1320 4020 Täällä meillä on Semjaškin Kindei Marković,\n",
      "corpus/kpv_izva19570000-290_3bz-Bakur.eaf 4560 7160 Bakur kylästä Ižmasta.\n"
     ]
    }
   ],
   "source": [
    "for annotation in elan_data:\n",
    "    \n",
    "    if re.match(r\"[^А-ЯЁӦІа-яёӧі,.!?…]\", annotation['utterance']):\n",
    "\n",
    "        print(annotation['filename'], annotation['start_ms'], annotation['end_ms'], annotation['utterance'])"
   ]
  },
  {
   "cell_type": "markdown",
   "metadata": {},
   "source": [
    "Here is a list of empty annotations."
   ]
  },
  {
   "cell_type": "code",
   "execution_count": 9,
   "metadata": {},
   "outputs": [
    {
     "name": "stdout",
     "output_type": "stream",
     "text": [
      "corpus/kpv_csys19611213-1329_2az-Kunib.eaf 43273 46345\n",
      "corpus/kpv_csys19611213-1329_2az-Kunib.eaf 79716 81290\n",
      "corpus/kpv_csys19611213-1329_2az-Kunib.eaf 95121 97778\n",
      "corpus/kpv_csys19611213-1329_2az-Kunib.eaf 98353 103273\n",
      "corpus/kpv_csys19611213-1329_2az-Kunib.eaf 103678 105088\n",
      "corpus/kpv_csys19611213-1329_2az-Kunib.eaf 112330 113293\n"
     ]
    }
   ],
   "source": [
    "for annotation in elan_data:\n",
    "    \n",
    "    if not annotation['utterance']:\n",
    "\n",
    "        print(annotation['filename'], annotation['start_ms'], annotation['end_ms'])"
   ]
  },
  {
   "cell_type": "markdown",
   "metadata": {},
   "source": [
    "We can also visualize the material in this point. First we `pandas` package to convert the dictionary into a data frame, which is a different tabular structure. And we load also package seaborn, which is one of the many visualization packages."
   ]
  },
  {
   "cell_type": "code",
   "execution_count": 10,
   "metadata": {},
   "outputs": [],
   "source": [
    "import seaborn as sns\n",
    "import pandas as pd\n",
    "\n",
    "elan_df = pd.DataFrame.from_dict(elan_data)"
   ]
  },
  {
   "cell_type": "code",
   "execution_count": 11,
   "metadata": {},
   "outputs": [
    {
     "data": {
      "text/html": [
       "<div>\n",
       "<style scoped>\n",
       "    .dataframe tbody tr th:only-of-type {\n",
       "        vertical-align: middle;\n",
       "    }\n",
       "\n",
       "    .dataframe tbody tr th {\n",
       "        vertical-align: top;\n",
       "    }\n",
       "\n",
       "    .dataframe thead th {\n",
       "        text-align: right;\n",
       "    }\n",
       "</style>\n",
       "<table border=\"1\" class=\"dataframe\">\n",
       "  <thead>\n",
       "    <tr style=\"text-align: right;\">\n",
       "      <th></th>\n",
       "      <th>start_ms</th>\n",
       "      <th>end_ms</th>\n",
       "      <th>utterance</th>\n",
       "      <th>reference</th>\n",
       "      <th>participant</th>\n",
       "      <th>gender</th>\n",
       "      <th>birthyear</th>\n",
       "      <th>dialect</th>\n",
       "      <th>filename</th>\n",
       "    </tr>\n",
       "  </thead>\n",
       "  <tbody>\n",
       "    <tr>\n",
       "      <th>0</th>\n",
       "      <td>1765</td>\n",
       "      <td>8825</td>\n",
       "      <td>Ме чужи Удора районын, Усть-Вачерга сиктын, ко...</td>\n",
       "      <td>kpv_udo19570000-290_3a-01</td>\n",
       "      <td>XUV-F-1920</td>\n",
       "      <td>F</td>\n",
       "      <td>1920</td>\n",
       "      <td>udo</td>\n",
       "      <td>corpus/kpv_udo19570000-290_3a-Ust-Vacerga.eaf</td>\n",
       "    </tr>\n",
       "    <tr>\n",
       "      <th>1</th>\n",
       "      <td>17551</td>\n",
       "      <td>21030</td>\n",
       "      <td>Миян зэв, природаыс миян зэв мича.</td>\n",
       "      <td>kpv_udo19570000-290_3a-02</td>\n",
       "      <td>XUV-F-1920</td>\n",
       "      <td>F</td>\n",
       "      <td>1920</td>\n",
       "      <td>udo</td>\n",
       "      <td>corpus/kpv_udo19570000-290_3a-Ust-Vacerga.eaf</td>\n",
       "    </tr>\n",
       "    <tr>\n",
       "      <th>2</th>\n",
       "      <td>21416</td>\n",
       "      <td>23873</td>\n",
       "      <td>Гӧгӧр сулалӧны яг.</td>\n",
       "      <td>kpv_udo19570000-290_3a-03</td>\n",
       "      <td>XUV-F-1920</td>\n",
       "      <td>F</td>\n",
       "      <td>1920</td>\n",
       "      <td>udo</td>\n",
       "      <td>corpus/kpv_udo19570000-290_3a-Ust-Vacerga.eaf</td>\n",
       "    </tr>\n",
       "    <tr>\n",
       "      <th>3</th>\n",
       "      <td>24275</td>\n",
       "      <td>26053</td>\n",
       "      <td>Сиктсӧ ягӧн гӧгӧртӧма.</td>\n",
       "      <td>kpv_udo19570000-290_3a-04</td>\n",
       "      <td>XUV-F-1920</td>\n",
       "      <td>F</td>\n",
       "      <td>1920</td>\n",
       "      <td>udo</td>\n",
       "      <td>corpus/kpv_udo19570000-290_3a-Ust-Vacerga.eaf</td>\n",
       "    </tr>\n",
       "    <tr>\n",
       "      <th>4</th>\n",
       "      <td>27708</td>\n",
       "      <td>31646</td>\n",
       "      <td>И юыс миян сэтшӧм визюв мый</td>\n",
       "      <td>kpv_udo19570000-290_3a-05</td>\n",
       "      <td>XUV-F-1920</td>\n",
       "      <td>F</td>\n",
       "      <td>1920</td>\n",
       "      <td>udo</td>\n",
       "      <td>corpus/kpv_udo19570000-290_3a-Ust-Vacerga.eaf</td>\n",
       "    </tr>\n",
       "    <tr>\n",
       "      <th>...</th>\n",
       "      <td>...</td>\n",
       "      <td>...</td>\n",
       "      <td>...</td>\n",
       "      <td>...</td>\n",
       "      <td>...</td>\n",
       "      <td>...</td>\n",
       "      <td>...</td>\n",
       "      <td>...</td>\n",
       "      <td>...</td>\n",
       "    </tr>\n",
       "    <tr>\n",
       "      <th>178</th>\n",
       "      <td>143460</td>\n",
       "      <td>148860</td>\n",
       "      <td>Рӧбӧчӧйяслӧн условие вӧлі уна бурджык, чем вӧл...</td>\n",
       "      <td>kpv_izva19570000-290_3bz-28</td>\n",
       "      <td>XXV-M-19XX</td>\n",
       "      <td>M</td>\n",
       "      <td>19XX</td>\n",
       "      <td>izva</td>\n",
       "      <td>corpus/kpv_izva19570000-290_3bz-Bakur.eaf</td>\n",
       "    </tr>\n",
       "    <tr>\n",
       "      <th>179</th>\n",
       "      <td>149860</td>\n",
       "      <td>155060</td>\n",
       "      <td>Рӧбӧчӧйяс олӧныс бур ыджыд керкаясын.</td>\n",
       "      <td>kpv_izva19570000-290_3bz-29</td>\n",
       "      <td>XXV-M-19XX</td>\n",
       "      <td>M</td>\n",
       "      <td>19XX</td>\n",
       "      <td>izva</td>\n",
       "      <td>corpus/kpv_izva19570000-290_3bz-Bakur.eaf</td>\n",
       "    </tr>\n",
       "    <tr>\n",
       "      <th>180</th>\n",
       "      <td>155960</td>\n",
       "      <td>163300</td>\n",
       "      <td>Быд рӧбӧчӧйлы сетӧныс вӧлі койка, вольпась, и ...</td>\n",
       "      <td>kpv_izva19570000-290_3bz-30</td>\n",
       "      <td>XXV-M-19XX</td>\n",
       "      <td>M</td>\n",
       "      <td>19XX</td>\n",
       "      <td>izva</td>\n",
       "      <td>corpus/kpv_izva19570000-290_3bz-Bakur.eaf</td>\n",
       "    </tr>\n",
       "    <tr>\n",
       "      <th>181</th>\n",
       "      <td>1320</td>\n",
       "      <td>4020</td>\n",
       "      <td>Täällä meillä on Semjaškin Kindei Marković,</td>\n",
       "      <td>kpv_izva19570000-290_3bz-01</td>\n",
       "      <td>EEI-M-1913</td>\n",
       "      <td>M</td>\n",
       "      <td>1913</td>\n",
       "      <td>izva</td>\n",
       "      <td>corpus/kpv_izva19570000-290_3bz-Bakur.eaf</td>\n",
       "    </tr>\n",
       "    <tr>\n",
       "      <th>182</th>\n",
       "      <td>4560</td>\n",
       "      <td>7160</td>\n",
       "      <td>Bakur kylästä Ižmasta.</td>\n",
       "      <td>kpv_izva19570000-290_3bz-02</td>\n",
       "      <td>EEI-M-1913</td>\n",
       "      <td>M</td>\n",
       "      <td>1913</td>\n",
       "      <td>izva</td>\n",
       "      <td>corpus/kpv_izva19570000-290_3bz-Bakur.eaf</td>\n",
       "    </tr>\n",
       "  </tbody>\n",
       "</table>\n",
       "<p>183 rows × 9 columns</p>\n",
       "</div>"
      ],
      "text/plain": [
       "     start_ms  end_ms                                          utterance  \\\n",
       "0        1765    8825  Ме чужи Удора районын, Усть-Вачерга сиктын, ко...   \n",
       "1       17551   21030                 Миян зэв, природаыс миян зэв мича.   \n",
       "2       21416   23873                                 Гӧгӧр сулалӧны яг.   \n",
       "3       24275   26053                             Сиктсӧ ягӧн гӧгӧртӧма.   \n",
       "4       27708   31646                        И юыс миян сэтшӧм визюв мый   \n",
       "..        ...     ...                                                ...   \n",
       "178    143460  148860  Рӧбӧчӧйяслӧн условие вӧлі уна бурджык, чем вӧл...   \n",
       "179    149860  155060              Рӧбӧчӧйяс олӧныс бур ыджыд керкаясын.   \n",
       "180    155960  163300  Быд рӧбӧчӧйлы сетӧныс вӧлі койка, вольпась, и ...   \n",
       "181      1320    4020        Täällä meillä on Semjaškin Kindei Marković,   \n",
       "182      4560    7160                             Bakur kylästä Ižmasta.   \n",
       "\n",
       "                       reference participant gender birthyear dialect  \\\n",
       "0      kpv_udo19570000-290_3a-01  XUV-F-1920      F      1920     udo   \n",
       "1      kpv_udo19570000-290_3a-02  XUV-F-1920      F      1920     udo   \n",
       "2      kpv_udo19570000-290_3a-03  XUV-F-1920      F      1920     udo   \n",
       "3      kpv_udo19570000-290_3a-04  XUV-F-1920      F      1920     udo   \n",
       "4      kpv_udo19570000-290_3a-05  XUV-F-1920      F      1920     udo   \n",
       "..                           ...         ...    ...       ...     ...   \n",
       "178  kpv_izva19570000-290_3bz-28  XXV-M-19XX      M      19XX    izva   \n",
       "179  kpv_izva19570000-290_3bz-29  XXV-M-19XX      M      19XX    izva   \n",
       "180  kpv_izva19570000-290_3bz-30  XXV-M-19XX      M      19XX    izva   \n",
       "181  kpv_izva19570000-290_3bz-01  EEI-M-1913      M      1913    izva   \n",
       "182  kpv_izva19570000-290_3bz-02  EEI-M-1913      M      1913    izva   \n",
       "\n",
       "                                          filename  \n",
       "0    corpus/kpv_udo19570000-290_3a-Ust-Vacerga.eaf  \n",
       "1    corpus/kpv_udo19570000-290_3a-Ust-Vacerga.eaf  \n",
       "2    corpus/kpv_udo19570000-290_3a-Ust-Vacerga.eaf  \n",
       "3    corpus/kpv_udo19570000-290_3a-Ust-Vacerga.eaf  \n",
       "4    corpus/kpv_udo19570000-290_3a-Ust-Vacerga.eaf  \n",
       "..                                             ...  \n",
       "178      corpus/kpv_izva19570000-290_3bz-Bakur.eaf  \n",
       "179      corpus/kpv_izva19570000-290_3bz-Bakur.eaf  \n",
       "180      corpus/kpv_izva19570000-290_3bz-Bakur.eaf  \n",
       "181      corpus/kpv_izva19570000-290_3bz-Bakur.eaf  \n",
       "182      corpus/kpv_izva19570000-290_3bz-Bakur.eaf  \n",
       "\n",
       "[183 rows x 9 columns]"
      ]
     },
     "execution_count": 11,
     "metadata": {},
     "output_type": "execute_result"
    }
   ],
   "source": [
    "elan_df"
   ]
  },
  {
   "cell_type": "code",
   "execution_count": 12,
   "metadata": {},
   "outputs": [
    {
     "data": {
      "image/png": "[encoded data removed]",
      "text/plain": [
       "<Figure size 432x288 with 1 Axes>"
      ]
     },
     "metadata": {},
     "output_type": "display_data"
    }
   ],
   "source": [
    "sns.set_theme(style=\"whitegrid\")\n",
    "ax = sns.countplot(x=\"dialect\", data=elan_df)"
   ]
  },
  {
   "cell_type": "code",
   "execution_count": 13,
   "metadata": {},
   "outputs": [
    {
     "data": {
      "image/png": "[encoded data removed]",
      "text/plain": [
       "<Figure size 432x288 with 1 Axes>"
      ]
     },
     "metadata": {},
     "output_type": "display_data"
    }
   ],
   "source": [
    "ax = sns.countplot(x=\"gender\", data=elan_df)"
   ]
  },
  {
   "cell_type": "code",
   "execution_count": 14,
   "metadata": {},
   "outputs": [
    {
     "data": {
      "text/plain": [
       "birthyear\n",
       "19XX    64\n",
       "193X    41\n",
       "1941    34\n",
       "1920    31\n",
       "1933    10\n",
       "1913     3\n",
       "dtype: int64"
      ]
     },
     "execution_count": 14,
     "metadata": {},
     "output_type": "execute_result"
    }
   ],
   "source": [
    "elan_df.value_counts(\"birthyear\")"
   ]
  }
 ],
 "metadata": {
  "kernelspec": {
   "display_name": "Python [conda env:kielipankki]",
   "language": "python",
   "name": "conda-env-kielipankki-py"
  },
  "language_info": {
   "codemirror_mode": {
    "name": "ipython",
    "version": 3
   },
   "file_extension": ".py",
   "mimetype": "text/x-python",
   "name": "python",
   "nbconvert_exporter": "python",
   "pygments_lexer": "ipython3",
   "version": "3.8.8"
  }
 },
 "nbformat": 4,
 "nbformat_minor": 4
}
